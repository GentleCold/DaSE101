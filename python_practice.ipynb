{
 "cells": [
  {
   "cell_type": "markdown",
   "source": [
    "**遍历练习**"
   ],
   "metadata": {
    "collapsed": false
   }
  },
  {
   "cell_type": "code",
   "execution_count": 29,
   "metadata": {
    "collapsed": true
   },
   "outputs": [
    {
     "name": "stdout",
     "output_type": "stream",
     "text": [
      "1\n",
      "3\n",
      "5\n",
      "7\n",
      "9\n",
      "11\n",
      "13\n",
      "15\n",
      "17\n",
      "19\n",
      "21\n",
      "23\n",
      "25\n",
      "27\n",
      "29\n",
      "31\n",
      "33\n",
      "35\n",
      "37\n",
      "39\n",
      "41\n",
      "43\n",
      "45\n",
      "47\n",
      "49\n",
      "51\n",
      "53\n",
      "55\n",
      "57\n",
      "59\n",
      "61\n",
      "63\n",
      "65\n",
      "67\n",
      "69\n",
      "71\n",
      "73\n",
      "75\n",
      "77\n",
      "79\n",
      "81\n",
      "83\n",
      "85\n",
      "87\n",
      "89\n",
      "91\n",
      "93\n",
      "95\n",
      "97\n",
      "99\n",
      "58435841445947272053455474390625\n"
     ]
    }
   ],
   "source": [
    "def func1():\n",
    "    total = 1\n",
    "    for i in range(101):\n",
    "        if i % 2 == 1:\n",
    "            print(i)\n",
    "            if i <= 50:\n",
    "                total *= i\n",
    "    print(total)\n",
    "\n",
    "func1()"
   ]
  },
  {
   "cell_type": "markdown",
   "source": [
    "**循环练习**"
   ],
   "metadata": {
    "collapsed": false
   }
  },
  {
   "cell_type": "code",
   "execution_count": 30,
   "outputs": [
    {
     "name": "stdout",
     "output_type": "stream",
     "text": [
      "5 4 3 2 1 \n",
      "5 4 3 2 1 \n",
      "[5, 4, 3, 2, 1]\n"
     ]
    }
   ],
   "source": [
    "l = [1, 2, 3, 4, 5]\n",
    "def func2():\n",
    "    for v in reversed(l):\n",
    "      print(v, end=\" \")\n",
    "    print()\n",
    "\n",
    "def func3():\n",
    "    i = 4\n",
    "    while i >= 0:\n",
    "        print(l[i], end=\" \")\n",
    "        i -= 1\n",
    "    print()\n",
    "\n",
    "def func4():\n",
    "    print(l[::-1])\n",
    "\n",
    "func2()\n",
    "func3()\n",
    "func4()"
   ],
   "metadata": {
    "collapsed": false,
    "pycharm": {
     "name": "#%%\n"
    }
   }
  },
  {
   "cell_type": "markdown",
   "source": [
    "**字符串练习1**"
   ],
   "metadata": {
    "collapsed": false
   }
  },
  {
   "cell_type": "code",
   "execution_count": 31,
   "outputs": [
    {
     "name": "stdout",
     "output_type": "stream",
     "text": [
      "4\n"
     ]
    },
    {
     "data": {
      "text/plain": "True"
     },
     "execution_count": 31,
     "metadata": {},
     "output_type": "execute_result"
    }
   ],
   "source": [
    "def func5(s):\n",
    "    a = s[0]\n",
    "    length = 1\n",
    "    max_len = 1\n",
    "    for i in range(1, len(s)):\n",
    "        if s[i] == a:\n",
    "            length += 1\n",
    "        else:\n",
    "            a = s[i]\n",
    "            if length > max_len:\n",
    "                max_len = length\n",
    "            length = 1\n",
    "\n",
    "    if length > max_len:\n",
    "        max_len = length\n",
    "\n",
    "    if max_len >= 2:\n",
    "        print(max_len)\n",
    "        return True\n",
    "    else:\n",
    "        return False\n",
    "\n",
    "func5(\"abcccaaaa\")"
   ],
   "metadata": {
    "collapsed": false,
    "pycharm": {
     "name": "#%%\n"
    }
   }
  },
  {
   "cell_type": "markdown",
   "source": [
    "**字符串练习2**"
   ],
   "metadata": {
    "collapsed": false,
    "pycharm": {
     "name": "#%% md\n"
    }
   }
  },
  {
   "cell_type": "code",
   "execution_count": 32,
   "outputs": [
    {
     "name": "stdout",
     "output_type": "stream",
     "text": [
      "DataScienceandEngineering\n"
     ]
    }
   ],
   "source": [
    "def func6(s):\n",
    "    i = 0\n",
    "    while i < len(s):\n",
    "        if s[i] == ' ':\n",
    "            s = s[:i] + s[i + 1:]\n",
    "            i -= 1\n",
    "        i += 1\n",
    "    print(s)\n",
    "\n",
    "func6(\"Data Science and Engineering\")"
   ],
   "metadata": {
    "collapsed": false,
    "pycharm": {
     "name": "#%%\n"
    }
   }
  }
 ],
 "metadata": {
  "kernelspec": {
   "display_name": "Python 3",
   "language": "python",
   "name": "python3"
  },
  "language_info": {
   "codemirror_mode": {
    "name": "ipython",
    "version": 2
   },
   "file_extension": ".py",
   "mimetype": "text/x-python",
   "name": "python",
   "nbconvert_exporter": "python",
   "pygments_lexer": "ipython2",
   "version": "2.7.6"
  }
 },
 "nbformat": 4,
 "nbformat_minor": 0
}