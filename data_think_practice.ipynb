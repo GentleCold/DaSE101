{
 "cells": [
  {
   "cell_type": "markdown",
   "source": [
    "**蒙特卡洛求积分**"
   ],
   "metadata": {
    "collapsed": false
   }
  },
  {
   "cell_type": "code",
   "execution_count": 7,
   "metadata": {
    "collapsed": true
   },
   "outputs": [
    {
     "name": "stdout",
     "output_type": "stream",
     "text": [
      "0.57778\n"
     ]
    }
   ],
   "source": [
    "import random\n",
    "\n",
    "\n",
    "def func1():\n",
    "    def y(x):\n",
    "        return x ** 3 + x ** 2\n",
    "    total = 100000\n",
    "    shot = 0\n",
    "    for k in range(total):\n",
    "        i = random.uniform(0, 1)\n",
    "        j = random.uniform(0, 2)\n",
    "        if j <= y(i):\n",
    "            shot += 1\n",
    "    print(shot / total * 2)\n",
    "func1()"
   ]
  },
  {
   "cell_type": "markdown",
   "source": [
    "**根号2近似值**"
   ],
   "metadata": {
    "collapsed": false
   }
  },
  {
   "cell_type": "code",
   "execution_count": 10,
   "outputs": [
    {
     "name": "stdout",
     "output_type": "stream",
     "text": [
      "1.4142\n",
      "1.4142\n",
      "1.4142\n"
     ]
    }
   ],
   "source": [
    "# 牛顿-拉弗森法\n",
    "def func2(e):\n",
    "    guess = 2\n",
    "    while abs(guess ** 2 - 2) >= e:\n",
    "        guess = guess - (guess ** 2 - 2) / (guess * 2)\n",
    "\n",
    "    print('%.4f' % guess)\n",
    "func2(0.0001)\n",
    "\n",
    "# 二分查找法\n",
    "def func3(e):\n",
    "    i = 1\n",
    "    j = 2\n",
    "    k = 1.5\n",
    "    while abs(k ** 2 - 2) >= e:\n",
    "        k = (i + j) / 2\n",
    "        if k ** 2 - 2 > 0:\n",
    "            j = k\n",
    "        else:\n",
    "            i = k\n",
    "\n",
    "    print('%.4f' % k)\n",
    "func3(0.0001)\n",
    "\n",
    "# 循环迭代\n",
    "def fun4(e):\n",
    "    k = 1\n",
    "    while abs(k ** 2 - 2) >= e:\n",
    "        k += e\n",
    "\n",
    "    print('%.4f' % k)\n",
    "fun4(0.0001)"
   ],
   "metadata": {
    "collapsed": false,
    "pycharm": {
     "name": "#%%\n"
    }
   }
  }
 ],
 "metadata": {
  "kernelspec": {
   "display_name": "Python 3",
   "language": "python",
   "name": "python3"
  },
  "language_info": {
   "codemirror_mode": {
    "name": "ipython",
    "version": 2
   },
   "file_extension": ".py",
   "mimetype": "text/x-python",
   "name": "python",
   "nbconvert_exporter": "python",
   "pygments_lexer": "ipython2",
   "version": "2.7.6"
  }
 },
 "nbformat": 4,
 "nbformat_minor": 0
}